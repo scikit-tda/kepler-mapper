{
 "cells": [
  {
   "cell_type": "markdown",
   "metadata": {},
   "source": [
    "## Potly plot of the kmapper graph for the Fashion MNIST data set ##"
   ]
  },
  {
   "cell_type": "markdown",
   "metadata": {},
   "source": [
    "Fashion MNIST is a newer dataset provided to the ML community by Zalando Research. See details [here](https://github.com/zalandoresearch/fashion-mnist)."
   ]
  },
  {
   "cell_type": "code",
   "execution_count": null,
   "metadata": {},
   "outputs": [],
   "source": [
    "import numpy as np\n",
    "import pandas as pd\n",
    "import sklearn\n",
    "from sklearn import datasets\n",
    "import umap\n",
    "import kmapper as km\n",
    "from kmapper import plotlyviz as pl"
   ]
  },
  {
   "cell_type": "code",
   "execution_count": null,
   "metadata": {},
   "outputs": [],
   "source": [
    "from plotly.offline import download_plotlyjs, init_notebook_mode,  iplot\n",
    "init_notebook_mode(connected=True)"
   ]
  },
  {
   "cell_type": "code",
   "execution_count": null,
   "metadata": {},
   "outputs": [],
   "source": [
    "pl_brewer=[[0.0, '#a50026'],\n",
    "           [0.1, '#d73027'],\n",
    "           [0.2, '#f46d43'],\n",
    "           [0.3, '#fdae61'],\n",
    "           [0.4, '#fee08b'],\n",
    "           [0.5, '#ffffbf'],\n",
    "           [0.6, '#d9ef8b'],\n",
    "           [0.7, '#a6d96a'],\n",
    "           [0.8, '#66bd63'],\n",
    "           [0.9, '#1a9850'],\n",
    "           [1.0, '#006837']]"
   ]
  },
  {
   "cell_type": "markdown",
   "metadata": {},
   "source": [
    "Download the file `fashion-mnist_test.csv`  from [kaggle](https://www.kaggle.com/residentmario/dimensionality-reduction-and-pca-for-fashion-mnist/data),\n",
    "save it in your working directory and read it.  It consists in 10000 28x28-grayscale images and their associated labels."
   ]
  },
  {
   "cell_type": "code",
   "execution_count": null,
   "metadata": {},
   "outputs": [],
   "source": [
    "df = pd.read_csv('fashion-mnist_test.csv')\n",
    "X = df.iloc[:, 1:].values\n",
    "y = (df.iloc[:, :1].values).reshape(-2)"
   ]
  },
  {
   "cell_type": "markdown",
   "metadata": {},
   "source": [
    "Define the dict (label: fashion), where fashion stands for ten fashion items, such as  clothes, shoes, bags:"
   ]
  },
  {
   "cell_type": "code",
   "execution_count": null,
   "metadata": {},
   "outputs": [],
   "source": [
    "fashion_dict={0: 'T-shirt/top',\n",
    "              1: 'Trouser',\n",
    "              2: 'Pullover',\n",
    "              3: 'Dress',\n",
    "              4: 'Coat',\n",
    "              5: 'Sandal',\n",
    "              6: 'Shirt',\n",
    "              7: 'Sneaker',\n",
    "              8: 'Bag',\n",
    "              9: 'Ankle boot'}"
   ]
  },
  {
   "cell_type": "code",
   "execution_count": null,
   "metadata": {},
   "outputs": [],
   "source": [
    "mapper = km.KeplerMapper(verbose=0)\n",
    "\n",
    "\n",
    "projected_data = mapper.fit_transform(X, projection=umap.UMAP(n_neighbors=5,\n",
    "                                                              n_components=2,\n",
    "                                                              min_dist=0.1,\n",
    "                                                              random_state=123\n",
    "                                                            )) "
   ]
  },
  {
   "cell_type": "code",
   "execution_count": null,
   "metadata": {},
   "outputs": [],
   "source": [
    "scomplex = mapper.map(projected_data,\n",
    "                      clusterer=sklearn.cluster.DBSCAN(eps=0.15, min_samples=6),#0.1 15\n",
    "                      coverer=km.Cover(23, 0.15))#20"
   ]
  },
  {
   "cell_type": "code",
   "execution_count": null,
   "metadata": {},
   "outputs": [],
   "source": [
    "color_function=projected_data[:,0]-projected_data[:,0].min()\n",
    "kmgraph,  meta=mapper.visualize(scomplex, custom_tooltips=y,  color_function=color_function, path_html=None)\n",
    "#Comment the above line line and uncomment the next one to get the Kepler-Mapper original graph\n",
    "#html=mapper.visualize(scomplex,  color_function=color_function, path_html='fashion-mnist.html')"
   ]
  },
  {
   "cell_type": "code",
   "execution_count": null,
   "metadata": {},
   "outputs": [],
   "source": [
    "plotly_graph_data=pl.plotly_graph(kmgraph, graph_layout='fr', colorscale=pl_brewer,  \n",
    "                                  reversescale=True, factor_size=2, edge_linewidth=0.5)\n",
    "title='Topological network representing the  Fashion MNIST  dataset,<br> via   Kepler-Mapper,\\\n",
    "       and UMAP as a filter function'\n",
    "layout=pl.plot_layout(title=title,  width=800, height=800,\n",
    "                      annotation_text=meta,  \n",
    "                      bgcolor='rgba(0,0,0, 1)')\n",
    "\n",
    "fig_network=dict(data=plotly_graph_data, layout=layout)\n",
    "iplot(fig_network)"
   ]
  },
  {
   "cell_type": "markdown",
   "metadata": {},
   "source": [
    "Some node tooltips display a too long rectangle. To avoid this inconvenient pass `keep_kmtooltips=False` to the function\n",
    "`pl.plotly_graph()`:"
   ]
  },
  {
   "cell_type": "code",
   "execution_count": null,
   "metadata": {},
   "outputs": [],
   "source": [
    "new_plotly_graph_data=pl.plotly_graph(kmgraph, graph_layout='fr', colorscale=pl_brewer,  keep_kmtooltips=False,\n",
    "                                  reversescale=True, factor_size=2, edge_linewidth=0.5)\n",
    "fig_network=dict(data=new_plotly_graph_data, layout=layout)\n",
    "iplot(fig_network)"
   ]
  },
  {
   "cell_type": "markdown",
   "metadata": {},
   "source": [
    "To keep the initial information displayed for each node, we count the number of labels of each type associated to a graph node and update the initial tooltips:"
   ]
  },
  {
   "cell_type": "code",
   "execution_count": null,
   "metadata": {},
   "outputs": [],
   "source": [
    "tooltips=new_plotly_graph_data[1]['text']"
   ]
  },
  {
   "cell_type": "markdown",
   "metadata": {},
   "source": [
    "Define custom tooltips that point out how many items from each fashion type form a cluster(node):"
   ]
  },
  {
   "cell_type": "code",
   "execution_count": null,
   "metadata": {},
   "outputs": [],
   "source": [
    "for j, node in enumerate(kmgraph['nodes']):\n",
    "    member_label_ids=y[scomplex['nodes'][node['name']]]\n",
    "    member_labels=[fashion_dict[id] for id in member_label_ids]\n",
    "    f_type, f_number=np.unique(member_labels, return_counts=True) \n",
    "    for m in range(len(f_number)):\n",
    "        tooltips[j]+='<br>'+str(f_type[m])+': '+ str(f_number[m])\n",
    "\n",
    "new_plotly_graph_data[1].update(text=tooltips)"
   ]
  },
  {
   "cell_type": "code",
   "execution_count": null,
   "metadata": {},
   "outputs": [],
   "source": [
    "new_plotly_graph_data[1]['marker']['colorbar'].update(title='proj-data<br>x-coord')\n",
    "fign=dict(data=new_plotly_graph_data, layout=layout)\n",
    "\n",
    "iplot(fign)"
   ]
  },
  {
   "cell_type": "code",
   "execution_count": null,
   "metadata": {},
   "outputs": [],
   "source": []
  },
  {
   "cell_type": "code",
   "execution_count": null,
   "metadata": {},
   "outputs": [],
   "source": []
  }
 ],
 "metadata": {
  "kernelspec": {
   "display_name": "Python 3",
   "language": "python",
   "name": "python3"
  },
  "language_info": {
   "codemirror_mode": {
    "name": "ipython",
    "version": 3
   },
   "file_extension": ".py",
   "mimetype": "text/x-python",
   "name": "python",
   "nbconvert_exporter": "python",
   "pygments_lexer": "ipython3",
   "version": "3.6.4"
  }
 },
 "nbformat": 4,
 "nbformat_minor": 2
}
