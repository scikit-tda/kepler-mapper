{
 "cells": [
  {
   "cell_type": "markdown",
   "metadata": {},
   "source": [
    "## Plotly colorscales"
   ]
  },
  {
   "cell_type": "markdown",
   "metadata": {},
   "source": [
    "In order to assign colors to kmapper graph nodes according to a color function, we have to pass a Plotly colorscale to the function `plotlyviz.plotly_graph()`."
   ]
  },
  {
   "cell_type": "markdown",
   "metadata": {},
   "source": [
    " A Plotly colorscale is a list of lists, and each inner list contains a float number in [0,1], and a color code.\n",
    "    The color codes\n",
    "however are not tuples of float values in [0,1], like in `matplotlib`, but tuples of integers (`np.uint8`) between 0 and 255.\n",
    "or hex colorcodes. \n",
    "\n",
    "Example of Plotly colorscale ([a Brewer-type colorscale](http://colorbrewer2.org/#type=diverging&scheme=RdYlGn&n=11)):"
   ]
  },
  {
   "cell_type": "code",
   "execution_count": null,
   "metadata": {},
   "outputs": [],
   "source": [
    "pl_brewer=[[0.0, '#a50026'],\n",
    "           [0.1, '#d73027'],\n",
    "           [0.2, '#f46d43'],\n",
    "           [0.3, '#fdae61'],\n",
    "           [0.4, '#fee08b'],\n",
    "           [0.5, '#ffffbf'],\n",
    "           [0.6, '#d9ef8b'],\n",
    "           [0.7, '#a6d96a'],\n",
    "           [0.8, '#66bd63'],\n",
    "           [0.9, '#1a9850'],\n",
    "           [1.0, '#006837']]"
   ]
  },
  {
   "cell_type": "markdown",
   "metadata": {},
   "source": [
    "The Plotly colorscales that can be called by their name can be found here [https://github.com/plotly/plotly.py/blob/master/plotly/colors.py]\n",
    "(https://github.com/plotly/plotly.py/blob/master/plotly/colors.py)."
   ]
  },
  {
   "cell_type": "markdown",
   "metadata": {},
   "source": [
    "The following function converts a matplotlib colormap to a Plotly colorscale with `n_entries` colors:"
   ]
  },
  {
   "cell_type": "code",
   "execution_count": null,
   "metadata": {},
   "outputs": [],
   "source": [
    "import numpy as np\n",
    "import matplotlib.cm as cm\n",
    "import cmocean#https://matplotlib.org/cmocean/"
   ]
  },
  {
   "cell_type": "code",
   "execution_count": null,
   "metadata": {},
   "outputs": [],
   "source": [
    "def mpl_to_plotly(cmap, n_entries):\n",
    "    h=1.0/(n_entries-1)\n",
    "    pl_colorscale=[]\n",
    "    for k in range(n_entries):\n",
    "        C=list(map(np.uint8, np.array(cmap(k*h)[:3])*255))\n",
    "        pl_colorscale.append([round(k*h,2), 'rgb'+str((C[0], C[1], C[2]))])\n",
    "    return pl_colorscale"
   ]
  },
  {
   "cell_type": "code",
   "execution_count": null,
   "metadata": {},
   "outputs": [],
   "source": [
    "plotly_RdYlBu=mpl_to_plotly(cm.RdYlBu, 11)\n",
    "plotly_RdYlBu"
   ]
  },
  {
   "cell_type": "code",
   "execution_count": null,
   "metadata": {},
   "outputs": [],
   "source": [
    "plotly_delta=mpl_to_plotly(cmocean.cm.delta, 11) \n",
    "plotly_delta"
   ]
  },
  {
   "cell_type": "markdown",
   "metadata": {},
   "source": [
    "Here [https://plot.ly/python/colorscales/](https://plot.ly/python/colorscales/) is  an example of discrete colorscale."
   ]
  },
  {
   "cell_type": "code",
   "execution_count": null,
   "metadata": {},
   "outputs": [],
   "source": []
  }
 ],
 "metadata": {
  "kernelspec": {
   "display_name": "Python [conda env:python36]",
   "language": "python",
   "name": "conda-env-python36-py"
  },
  "language_info": {
   "codemirror_mode": {
    "name": "ipython",
    "version": 3
   },
   "file_extension": ".py",
   "mimetype": "text/x-python",
   "name": "python",
   "nbconvert_exporter": "python",
   "pygments_lexer": "ipython3",
   "version": "3.6.4"
  }
 },
 "nbformat": 4,
 "nbformat_minor": 2
}
