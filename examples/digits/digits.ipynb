{
 "cells": [
  {
   "cell_type": "markdown",
   "metadata": {},
   "source": [
    "### Digits dataset"
   ]
  },
  {
   "cell_type": "code",
   "execution_count": null,
   "metadata": {},
   "outputs": [],
   "source": [
    "import numpy as np\n",
    "import sklearn\n",
    "from sklearn import datasets\n",
    "import umap\n",
    "import kmapper as km\n",
    "from kmapper import plotlyviz as pl"
   ]
  },
  {
   "cell_type": "code",
   "execution_count": null,
   "metadata": {},
   "outputs": [],
   "source": [
    "from plotly.offline import download_plotlyjs, init_notebook_mode,  iplot\n",
    "init_notebook_mode(connected=True)"
   ]
  },
  {
   "cell_type": "code",
   "execution_count": null,
   "metadata": {},
   "outputs": [],
   "source": [
    "data, labels = datasets.load_digits().data, datasets.load_digits().target"
   ]
  },
  {
   "cell_type": "code",
   "execution_count": null,
   "metadata": {},
   "outputs": [],
   "source": [
    "mapper = km.KeplerMapper(verbose=0)"
   ]
  },
  {
   "cell_type": "code",
   "execution_count": null,
   "metadata": {},
   "outputs": [],
   "source": [
    "projected_data = mapper.fit_transform(data, projection=umap.UMAP(n_neighbors=15,\n",
    "                                                                 min_dist=0.9,\n",
    "                                                                 n_components=2,\n",
    "                                                                 metric='euclidean',\n",
    "                                                                 random_state=7654321))"
   ]
  },
  {
   "cell_type": "code",
   "execution_count": null,
   "metadata": {},
   "outputs": [],
   "source": [
    "# Create the simplicial complex  \n",
    "scomplex = mapper.map(projected_data,\n",
    "                      clusterer=sklearn.cluster.DBSCAN(eps=0.3, min_samples=15),\n",
    "                      coverer=km.Cover(35, 0.9))\n",
    "\n",
    "\n",
    "\n",
    "color_function=projected_data[:,0]-projected_data[:,0].min()\n",
    "#When path_html is None, i.e. we choose to generate a Plotly plot, \n",
    "#the method visualize returns the json_graph (as kmgraph), as well as color and meta\n",
    "#color and meta\n",
    "kmgraph,  meta = mapper.visualize(scomplex, custom_tooltips=labels, \n",
    "                                        color_function=color_function, path_html=None)\n"
   ]
  },
  {
   "cell_type": "code",
   "execution_count": null,
   "metadata": {},
   "outputs": [],
   "source": [
    "pl_jet=[[0.0, 'rgb(0, 0, 127)'],\n",
    " [0.03, 'rgb(0, 0, 163)'], \n",
    " [0.07, 'rgb(0, 0, 204)'], \n",
    " [0.1, 'rgb(0, 0, 241)'],\n",
    " [0.13, 'rgb(0, 8, 255)'],\n",
    " [0.17, 'rgb(0, 40, 255)'],\n",
    " [0.2, 'rgb(0, 76, 255)'],\n",
    " [0.23, 'rgb(0, 108, 255)'],\n",
    " [0.27, 'rgb(0, 144, 255)'],\n",
    " [0.3, 'rgb(0, 176, 255)'],\n",
    " [0.33, 'rgb(0, 212, 255)'],\n",
    " [0.37, 'rgb(12, 244, 234)'],\n",
    " [0.4, 'rgb(41, 255, 205)'],\n",
    " [0.43, 'rgb(66, 255, 179)'],\n",
    " [0.47, 'rgb(95, 255, 150)'],\n",
    " [0.5, 'rgb(124, 255, 121)'],\n",
    " [0.53, 'rgb(150, 255, 95)'],\n",
    " [0.57, 'rgb(179, 255, 66)'],\n",
    " [0.6, 'rgb(205, 255, 41)'],\n",
    " [0.63, 'rgb(234, 255, 12)'],\n",
    " [0.67, 'rgb(255, 229, 0)'],\n",
    " [0.7, 'rgb(255, 196, 0)'],\n",
    " [0.73, 'rgb(255, 166, 0)'],\n",
    " [0.77, 'rgb(255, 133, 0)'],\n",
    " [0.8, 'rgb(255, 103, 0)'],\n",
    " [0.83, 'rgb(255, 70, 0)'],\n",
    " [0.87, 'rgb(255, 40, 0)'],\n",
    " [0.9, 'rgb(241, 7, 0)'],\n",
    " [0.93, 'rgb(204, 0, 0)'],\n",
    " [0.97, 'rgb(163, 0, 0)'],\n",
    " [1.0, 'rgb(127, 0, 0)']]\n",
    "\n",
    "\n",
    "pl_brewer=[[0.0, '#a50026'],\n",
    "           [0.1, '#d73027'],\n",
    "           [0.2, '#f46d43'],\n",
    "           [0.3, '#fdae61'],\n",
    "           [0.4, '#fee08b'],\n",
    "           [0.5, '#ffffbf'],\n",
    "           [0.6, '#d9ef8b'],\n",
    "           [0.7, '#a6d96a'],\n",
    "           [0.8, '#66bd63'],\n",
    "           [0.9, '#1a9850'],\n",
    "           [1.0, '#006837']]"
   ]
  },
  {
   "cell_type": "code",
   "execution_count": null,
   "metadata": {},
   "outputs": [],
   "source": [
    "#PLot the graph with Kamada Kawai layout\n",
    "plotly_graph_data=pl.plotly_graph(kmgraph, graph_layout='kk', colorscale=pl_jet,  factor_size=3, \n",
    "                                  edge_linewidth=0.5)#here colorscale could be 'Jet'; in this case the above definition \n",
    "                                                     #of pl_jet is not necessary anymore\n",
    "layout=pl.plot_layout(title='Mapper graph of digits dataset',  width=800, height=800,\n",
    "                      annotation_text=meta,  \n",
    "                      bgcolor='rgba(0,0,0, 0.95)')\n",
    "\n",
    "fig=dict(data=plotly_graph_data, layout=layout)\n",
    "iplot(fig)"
   ]
  },
  {
   "cell_type": "markdown",
   "metadata": {},
   "source": [
    "Let us update our plot, replacing `pl_jet` with pl_brewer:"
   ]
  },
  {
   "cell_type": "code",
   "execution_count": null,
   "metadata": {},
   "outputs": [],
   "source": [
    "fig['data'][1]['marker'].update(colorscale=pl_brewer)\n",
    "iplot(fig)"
   ]
  },
  {
   "cell_type": "markdown",
   "metadata": {},
   "source": [
    "Plotly provides two options for background color: `plot_bgcolor` sets the color of the rectangular region\n",
    "representing the plot window, whereas `paper_bgcolor` is the color around the plot window. See the next graph."
   ]
  },
  {
   "cell_type": "code",
   "execution_count": null,
   "metadata": {},
   "outputs": [],
   "source": [
    "fig['data'][1]['marker'].update(colorscale='Viridis')\n",
    "fig['layout'].update(plot_bgcolor='white', paper_bgcolor='rgb(235,235,235)')\n",
    "iplot(fig)"
   ]
  },
  {
   "cell_type": "code",
   "execution_count": null,
   "metadata": {},
   "outputs": [],
   "source": []
  }
 ],
 "metadata": {
  "kernelspec": {
   "display_name": "Python 3",
   "language": "python",
   "name": "python3"
  },
  "language_info": {
   "codemirror_mode": {
    "name": "ipython",
    "version": 3
   },
   "file_extension": ".py",
   "mimetype": "text/x-python",
   "name": "python",
   "nbconvert_exporter": "python",
   "pygments_lexer": "ipython3",
   "version": "3.6.4"
  }
 },
 "nbformat": 4,
 "nbformat_minor": 2
}
