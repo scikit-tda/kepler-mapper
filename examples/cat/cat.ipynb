{
 "cells": [
  {
   "cell_type": "code",
   "execution_count": null,
   "metadata": {},
   "outputs": [],
   "source": [
    "# %load cat.py\n",
    "import numpy as np\n",
    "import sklearn\n",
    "import kmapper as km\n",
    "from kmapper import plotlyviz as pl"
   ]
  },
  {
   "cell_type": "code",
   "execution_count": null,
   "metadata": {},
   "outputs": [],
   "source": [
    "from plotly.offline import download_plotlyjs, init_notebook_mode,  iplot\n",
    "init_notebook_mode(connected=True)"
   ]
  },
  {
   "cell_type": "code",
   "execution_count": null,
   "metadata": {},
   "outputs": [],
   "source": [
    "data = np.genfromtxt('cat-reference.csv', delimiter=',')"
   ]
  },
  {
   "cell_type": "code",
   "execution_count": null,
   "metadata": {},
   "outputs": [],
   "source": [
    "import matplotlib.pyplot as plt\n",
    "from mpl_toolkits.mplot3d import Axes3D\n",
    "%matplotlib inline\n",
    "fig = plt.figure()\n",
    "ax = fig.add_subplot(111, projection='3d')\n",
    "ax.scatter(data[:,0],data[:,1],data[:,2])"
   ]
  },
  {
   "cell_type": "code",
   "execution_count": null,
   "metadata": {},
   "outputs": [],
   "source": [
    "mapper = km.KeplerMapper(verbose=0)\n",
    "\n",
    "\n",
    "lens = mapper.fit_transform(data)\n",
    "\n",
    "scomplex = mapper.map(lens,\n",
    "                   data,\n",
    "                   clusterer=sklearn.cluster.DBSCAN(eps=0.1, min_samples=5),\n",
    "                   coverer=km.Cover(nr_cubes=15, overlap_perc=0.2))\n",
    "\n",
    "kmgraph, meta=mapper.visualize(scomplex,  path_html=None)\n"
   ]
  },
  {
   "cell_type": "code",
   "execution_count": null,
   "metadata": {},
   "outputs": [],
   "source": [
    "plotly_graph_data=pl.plotly_graph(kmgraph, graph_layout='kk', colorscale='Jet',  \n",
    "                                  factor_size=2, edge_linewidth=0.5)\n",
    "title='Topological network associated to a three dimensional dataset'\n",
    "layout=pl.plot_layout(title=title,  width=600, height=600,\n",
    "                      annotation_text=meta,  \n",
    "                      bgcolor='rgba(10,10,10, 0.9)')\n",
    "\n",
    "fig_network=dict(data=plotly_graph_data, layout=layout)\n",
    "iplot(fig_network)"
   ]
  },
  {
   "cell_type": "code",
   "execution_count": null,
   "metadata": {},
   "outputs": [],
   "source": []
  }
 ],
 "metadata": {
  "kernelspec": {
   "display_name": "Python 3",
   "language": "python",
   "name": "python3"
  },
  "language_info": {
   "codemirror_mode": {
    "name": "ipython",
    "version": 3
   },
   "file_extension": ".py",
   "mimetype": "text/x-python",
   "name": "python",
   "nbconvert_exporter": "python",
   "pygments_lexer": "ipython3",
   "version": "3.6.4"
  }
 },
 "nbformat": 4,
 "nbformat_minor": 2
}
