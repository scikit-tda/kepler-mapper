{
 "cells": [
  {
   "cell_type": "markdown",
   "metadata": {},
   "source": [
    "## Plotly plot of the kmapper graph associated to the breast cancer dataset"
   ]
  },
  {
   "cell_type": "code",
   "execution_count": null,
   "metadata": {},
   "outputs": [],
   "source": [
    "# %load breast-cancer.py\n",
    "import sys\n",
    "try:\n",
    "    import pandas as pd\n",
    "except ImportError as e:\n",
    "    print(\"pandas is required for this example. Please install with conda or pip  and then try again.\")\n",
    "    sys.exit()\n",
    "\n",
    "import numpy as np\n",
    "import kmapper as km\n",
    "import sklearn\n",
    "from sklearn import ensemble\n",
    "from kmapper import plotlyviz as pl"
   ]
  },
  {
   "cell_type": "code",
   "execution_count": null,
   "metadata": {},
   "outputs": [],
   "source": [
    "from plotly.offline import download_plotlyjs, init_notebook_mode,  iplot, plot\n",
    "init_notebook_mode(connected=True)"
   ]
  },
  {
   "cell_type": "code",
   "execution_count": null,
   "metadata": {},
   "outputs": [],
   "source": [
    "# For data we use the Wisconsin Breast Cancer Dataset\n",
    "# Via: https://www.kaggle.com/uciml/breast-cancer-wisconsin-data\n",
    "df = pd.read_csv(\"data.csv\")\n",
    "feature_names = [c for c in df.columns if c not in [\"id\", \"diagnosis\"]]\n",
    "df[\"diagnosis\"] = df[\"diagnosis\"].apply(lambda x: 1 if x == \"M\" else 0)\n",
    "X = np.array(df[feature_names].fillna(0)) # quick and dirty imputation\n",
    "y = np.array(df[\"diagnosis\"])\n",
    "\n",
    "# We create a custom 1-D lens with Isolation Forest\n",
    "model = ensemble.IsolationForest(random_state=1729)\n",
    "model.fit(X)\n",
    "lens1 = model.decision_function(X).reshape((X.shape[0], 1))\n",
    "\n",
    "# We create another 1-D lens with L2-norm\n",
    "mapper = km.KeplerMapper(verbose=0)\n",
    "lens2 = mapper.fit_transform(X, projection=\"l2norm\")\n",
    "\n",
    "# Combine both lenses to create a 2-D [Isolation Forest, L^2-Norm] lens\n",
    "lens = np.c_[lens1, lens2]\n",
    "\n",
    "# Create the simplicial complex\n",
    "scomplex = mapper.map(lens,\n",
    "                      X,\n",
    "                      nr_cubes=15,\n",
    "                      overlap_perc=0.7,\n",
    "                      clusterer=sklearn.cluster.KMeans(n_clusters=2,\n",
    "                                               random_state=1618033))\n"
   ]
  },
  {
   "cell_type": "code",
   "execution_count": null,
   "metadata": {},
   "outputs": [],
   "source": [
    "breastc_dict={0: 'benign', 1: 'malignant'}"
   ]
  },
  {
   "cell_type": "markdown",
   "metadata": {},
   "source": [
    "First we visualize the resulting graph via a   `color_function` that associates to lens data   their  x-coordinate, and  colormap these coordinates  to a given Plotly colorscale."
   ]
  },
  {
   "cell_type": "code",
   "execution_count": null,
   "metadata": {},
   "outputs": [],
   "source": [
    "color_function=lens[:,0]-lens[:,0].min()\n",
    "kmgraph,  meta=mapper.visualize(scomplex,  color_function=color_function,  path_html=None)"
   ]
  },
  {
   "cell_type": "markdown",
   "metadata": {},
   "source": [
    "Define a Brewer type colorscale:"
   ]
  },
  {
   "cell_type": "code",
   "execution_count": null,
   "metadata": {},
   "outputs": [],
   "source": [
    "pl_brewer=[[0.0, '#a50026'],\n",
    "           [0.1, '#d73027'],\n",
    "           [0.2, '#f46d43'],\n",
    "           [0.3, '#fdae61'],\n",
    "           [0.4, '#fee08b'],\n",
    "           [0.5, '#ffffbf'],\n",
    "           [0.6, '#d9ef8b'],\n",
    "           [0.7, '#a6d96a'],\n",
    "           [0.8, '#66bd63'],\n",
    "           [0.9, '#1a9850'],\n",
    "           [1.0, '#006837']]"
   ]
  },
  {
   "cell_type": "code",
   "execution_count": null,
   "metadata": {},
   "outputs": [],
   "source": [
    "plotly_graph_data=pl.plotly_graph(kmgraph, graph_layout='fr', colorscale=pl_brewer, reversescale=True, \n",
    "                                  factor_size=3, edge_linewidth=0.5)\n",
    "layout=pl.plot_layout(title='Topological network representing the  breast cancer  dataset',  width=900, height=900,\n",
    "                      annotation_text=meta,  \n",
    "                      bgcolor='rgba(0,0,0, 1)')\n",
    "\n",
    "fig_network=dict(data=plotly_graph_data, layout=layout)\n",
    "iplot(fig_network)"
   ]
  },
  {
   "cell_type": "markdown",
   "metadata": {},
   "source": [
    "For a more informative coloring, let us compute the proportion of malignant members in each node, \n",
    "and map these proportions to the colorscale:"
   ]
  },
  {
   "cell_type": "code",
   "execution_count": null,
   "metadata": {},
   "outputs": [],
   "source": [
    "tooltips=plotly_graph_data[1]['text']"
   ]
  },
  {
   "cell_type": "code",
   "execution_count": null,
   "metadata": {},
   "outputs": [],
   "source": [
    "new_color=[]\n",
    "for j, node in enumerate(kmgraph['nodes']):\n",
    "    member_label_ids=y[scomplex['nodes'][node['name']]]\n",
    "    member_labels=[breastc_dict[id] for id in member_label_ids]\n",
    "    f_type, f_number=np.unique(member_labels, return_counts=True) \n",
    "    \n",
    "    n_members=f_number.sum()\n",
    "    if f_type.shape[0]==1:\n",
    "        if f_type[0]=='benign':\n",
    "            new_color.append(0)\n",
    "        else:\n",
    "            new_color.append(1)\n",
    "    else:        \n",
    "        new_color.append(f_number[1]/n_members)\n",
    "       \n",
    "    for m in range(len(f_number)):\n",
    "        tooltips[j]+='<br>'+str(f_type[m])+': '+ str(f_number[m])\n",
    "\n",
    "plotly_graph_data[1].update(text=tooltips)\n",
    "plotly_graph_data[1]['marker'].update(color=new_color)\n"
   ]
  },
  {
   "cell_type": "markdown",
   "metadata": {},
   "source": [
    "Offline plot of the graph:"
   ]
  },
  {
   "cell_type": "code",
   "execution_count": null,
   "metadata": {},
   "outputs": [],
   "source": [
    "fign=dict(data=plotly_graph_data, layout=layout)\n",
    "iplot(fign)"
   ]
  },
  {
   "cell_type": "markdown",
   "metadata": {},
   "source": [
    "Another option is to send the graph to Plotly cloud:"
   ]
  },
  {
   "cell_type": "code",
   "execution_count": null,
   "metadata": {},
   "outputs": [],
   "source": [
    "import plotly.plotly as py\n",
    "#py.sign_in('empet', 'my_api_key')\n",
    "#py.iplot(fign, filename='tda-breastcancer')"
   ]
  },
  {
   "cell_type": "code",
   "execution_count": null,
   "metadata": {},
   "outputs": [],
   "source": []
  }
 ],
 "metadata": {
  "kernelspec": {
   "display_name": "Python 3",
   "language": "python",
   "name": "python3"
  },
  "language_info": {
   "codemirror_mode": {
    "name": "ipython",
    "version": 3
   },
   "file_extension": ".py",
   "mimetype": "text/x-python",
   "name": "python",
   "nbconvert_exporter": "python",
   "pygments_lexer": "ipython3",
   "version": "3.6.4"
  }
 },
 "nbformat": 4,
 "nbformat_minor": 2
}
